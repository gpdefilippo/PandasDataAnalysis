{
 "cells": [
  {
   "cell_type": "code",
   "execution_count": 45,
   "metadata": {},
   "outputs": [
    {
     "data": {
      "text/html": [
       "<div>\n",
       "<style scoped>\n",
       "    .dataframe tbody tr th:only-of-type {\n",
       "        vertical-align: middle;\n",
       "    }\n",
       "\n",
       "    .dataframe tbody tr th {\n",
       "        vertical-align: top;\n",
       "    }\n",
       "\n",
       "    .dataframe thead th {\n",
       "        text-align: right;\n",
       "    }\n",
       "</style>\n",
       "<table border=\"1\" class=\"dataframe\">\n",
       "  <thead>\n",
       "    <tr style=\"text-align: right;\">\n",
       "      <th></th>\n",
       "      <th>Trials</th>\n",
       "      <th>Quality</th>\n",
       "      <th>Negative_Control_Concentration</th>\n",
       "      <th>Intensity</th>\n",
       "      <th>Condition</th>\n",
       "      <th>Sample_ID</th>\n",
       "    </tr>\n",
       "  </thead>\n",
       "  <tbody>\n",
       "    <tr>\n",
       "      <th>0</th>\n",
       "      <td>1.0</td>\n",
       "      <td>0.967695</td>\n",
       "      <td>3.86052</td>\n",
       "      <td>100.113</td>\n",
       "      <td>3</td>\n",
       "      <td>ND000001</td>\n",
       "    </tr>\n",
       "    <tr>\n",
       "      <th>1</th>\n",
       "      <td>2.0</td>\n",
       "      <td>0.985588</td>\n",
       "      <td>2.63787</td>\n",
       "      <td>105.112</td>\n",
       "      <td>3</td>\n",
       "      <td>ND000002</td>\n",
       "    </tr>\n",
       "    <tr>\n",
       "      <th>2</th>\n",
       "      <td>3.0</td>\n",
       "      <td>0.818611</td>\n",
       "      <td>14.6662</td>\n",
       "      <td>45.2552</td>\n",
       "      <td>1</td>\n",
       "      <td>ND000001</td>\n",
       "    </tr>\n",
       "    <tr>\n",
       "      <th>3</th>\n",
       "      <td>4.0</td>\n",
       "      <td>0.022704</td>\n",
       "      <td>53.3028</td>\n",
       "      <td>0.390184</td>\n",
       "      <td>1</td>\n",
       "      <td>ND000002</td>\n",
       "    </tr>\n",
       "    <tr>\n",
       "      <th>4</th>\n",
       "      <td>5.0</td>\n",
       "      <td>0.800394</td>\n",
       "      <td>14.2298</td>\n",
       "      <td>47.3924</td>\n",
       "      <td>3</td>\n",
       "      <td>ND000003</td>\n",
       "    </tr>\n",
       "    <tr>\n",
       "      <th>...</th>\n",
       "      <td>...</td>\n",
       "      <td>...</td>\n",
       "      <td>...</td>\n",
       "      <td>...</td>\n",
       "      <td>...</td>\n",
       "      <td>...</td>\n",
       "    </tr>\n",
       "    <tr>\n",
       "      <th>999997</th>\n",
       "      <td>999998.0</td>\n",
       "      <td>0.905111</td>\n",
       "      <td>1.8993</td>\n",
       "      <td>97.4122</td>\n",
       "      <td>3</td>\n",
       "      <td>ND333333</td>\n",
       "    </tr>\n",
       "    <tr>\n",
       "      <th>999998</th>\n",
       "      <td>999999.0</td>\n",
       "      <td>0.056571</td>\n",
       "      <td>45.0028</td>\n",
       "      <td>41.4726</td>\n",
       "      <td>2</td>\n",
       "      <td>ND333333</td>\n",
       "    </tr>\n",
       "    <tr>\n",
       "      <th>999999</th>\n",
       "      <td>1000000.0</td>\n",
       "      <td>0.104231</td>\n",
       "      <td>51.8043</td>\n",
       "      <td>25.5342</td>\n",
       "      <td>3</td>\n",
       "      <td>ND333334</td>\n",
       "    </tr>\n",
       "    <tr>\n",
       "      <th>1000000</th>\n",
       "      <td>1000001.0</td>\n",
       "      <td>0.252566</td>\n",
       "      <td>44.6267</td>\n",
       "      <td>27.4289</td>\n",
       "      <td>1</td>\n",
       "      <td>ND333334</td>\n",
       "    </tr>\n",
       "    <tr>\n",
       "      <th>1000001</th>\n",
       "      <td>1000002.0</td>\n",
       "      <td>0.625115</td>\n",
       "      <td>10.2289</td>\n",
       "      <td>58.9768</td>\n",
       "      <td>2</td>\n",
       "      <td>ND333334</td>\n",
       "    </tr>\n",
       "  </tbody>\n",
       "</table>\n",
       "<p>1000002 rows × 6 columns</p>\n",
       "</div>"
      ],
      "text/plain": [
       "            Trials   Quality Negative_Control_Concentration Intensity  \\\n",
       "0              1.0  0.967695                        3.86052   100.113   \n",
       "1              2.0  0.985588                        2.63787   105.112   \n",
       "2              3.0  0.818611                        14.6662   45.2552   \n",
       "3              4.0  0.022704                        53.3028  0.390184   \n",
       "4              5.0  0.800394                        14.2298   47.3924   \n",
       "...            ...       ...                            ...       ...   \n",
       "999997    999998.0  0.905111                         1.8993   97.4122   \n",
       "999998    999999.0  0.056571                        45.0028   41.4726   \n",
       "999999   1000000.0  0.104231                        51.8043   25.5342   \n",
       "1000000  1000001.0  0.252566                        44.6267   27.4289   \n",
       "1000001  1000002.0  0.625115                        10.2289   58.9768   \n",
       "\n",
       "        Condition Sample_ID  \n",
       "0               3  ND000001  \n",
       "1               3  ND000002  \n",
       "2               1  ND000001  \n",
       "3               1  ND000002  \n",
       "4               3  ND000003  \n",
       "...           ...       ...  \n",
       "999997          3  ND333333  \n",
       "999998          2  ND333333  \n",
       "999999          3  ND333334  \n",
       "1000000         1  ND333334  \n",
       "1000001         2  ND333334  \n",
       "\n",
       "[1000002 rows x 6 columns]"
      ]
     },
     "execution_count": 45,
     "metadata": {},
     "output_type": "execute_result"
    }
   ],
   "source": [
    "import pandas as pd\n",
    "import numpy as np\n",
    "import matplotlib.pyplot as plt\n",
    "import seaborn as sns\n",
    "from createData import createDataFrame\n",
    "\n",
    "\n",
    "## Initialize Random Data Frame\n",
    "# this data frame consists of data generated from a random \"Quality\" score between 0-1\n",
    "# Intensity and Negative control concentration is generated from this quality score\n",
    "toAnalyze = createDataFrame(1000002)\n",
    "\n",
    "toAnalyze"
   ]
  },
  {
   "cell_type": "code",
   "execution_count": 46,
   "metadata": {},
   "outputs": [
    {
     "data": {
      "image/png": "[encoded data removed]",
      "text/plain": [
       "<Figure size 432x288 with 1 Axes>"
      ]
     },
     "metadata": {
      "needs_background": "light"
     },
     "output_type": "display_data"
    }
   ],
   "source": [
    "##Display counts of each condition type, describing the replicate setups\n",
    "\n",
    "toAnalyze[\"Condition\"].astype(str)\n",
    "condition_types, condition_counts = np.unique(toAnalyze[\"Condition\"], return_counts = True)\n",
    "plt.bar(condition_types, condition_counts, color = ['#CC7D6C', '#CCB56C', '#6FCC6C'])\n",
    "plt.xticks([1,2,3])\n",
    "plt.text(0.9, condition_counts[0] + 10, condition_counts[0], fontsize = \"large\")\n",
    "plt.text(1.9, condition_counts[1] + 10, condition_counts[1], fontsize = \"large\")\n",
    "plt.text(2.9, condition_counts[2] + 10, condition_counts[2], fontsize = \"large\")\n",
    "plt.xlabel(\"Condition Type\")\n",
    "plt.ylabel(\"Count\")\n",
    "plt.show()"
   ]
  },
  {
   "cell_type": "code",
   "execution_count": 47,
   "metadata": {},
   "outputs": [],
   "source": [
    "##Initialize data for boxplots and barplot below\n",
    "\n",
    "NTCboxData = []\n",
    "IntboxData = []\n",
    "negCount = []\n",
    "\n",
    "for condition in [1,2,3]:\n",
    "    NTCboxDatai = toAnalyze.loc[np.where(toAnalyze[\"Condition\"] == condition), \"Negative_Control_Concentration\"]\n",
    "    IntboxDatai = toAnalyze.loc[np.where(toAnalyze[\"Condition\"] == condition), \"Intensity\"]\n",
    "    negCounti = np.count_nonzero(toAnalyze.loc[np.where((toAnalyze[\"Condition\"] == condition) &\n",
    "                                                       (toAnalyze[\"Negative_Control_Concentration\"] > 20)),\"Negative_Control_Concentration\"])\n",
    "    \n",
    "    NTCboxData.append(NTCboxDatai)\n",
    "    IntboxData.append(IntboxDatai)\n",
    "    negCount.append(negCounti)"
   ]
  },
  {
   "cell_type": "code",
   "execution_count": 48,
   "metadata": {},
   "outputs": [
    {
     "data": {
      "image/png": "[encoded data removed]",
      "text/plain": [
       "<Figure size 864x432 with 3 Axes>"
      ]
     },
     "metadata": {
      "needs_background": "light"
     },
     "output_type": "display_data"
    }
   ],
   "source": [
    "colors = ['#CC7D6C', '#CCB56C', '#6FCC6C']\n",
    "fig, (ntc_ax, intensity_ax, countNTC_ax) = plt.subplots(1, 3, figsize = (12,6))\n",
    "\n",
    "ntc_box = ntc_ax.boxplot(NTCboxData, patch_artist=True)\n",
    "ntc_ax.set_title(\"Negative Control Concentration\")\n",
    "\n",
    "intBox = intensity_ax.boxplot(IntboxData, patch_artist=True)\n",
    "intensity_ax.set_title(\"Output Intensity\")\n",
    "\n",
    "ntcCount = countNTC_ax.bar([1,2,3], negCount, color = ['#CC7D6C', '#CCB56C', '#6FCC6C'])\n",
    "countNTC_ax.set_title(\"Count Negative Control > 20\")\n",
    "\n",
    "for plot in [ntc_box, intBox]:\n",
    "    i = 0\n",
    "    for patch in plot['boxes']:\n",
    "        patch.set_facecolor(colors[i])\n",
    "        i += 1\n",
    "\n",
    "\n",
    "plt.show()"
   ]
  },
  {
   "cell_type": "code",
   "execution_count": 49,
   "metadata": {
    "scrolled": true
   },
   "outputs": [],
   "source": [
    "good_intensity = []\n",
    "good_NTC = []\n",
    "\n",
    "for condition in [0,1,2]:\n",
    "    good_intensityi = IntboxData[condition].iloc[np.where(NTCboxData[condition] <= 20)]\n",
    "    good_NTCi = NTCboxData[condition].iloc[np.where(NTCboxData[condition] <= 20)]\n",
    "    \n",
    "    good_NTC.append(good_NTCi)\n",
    "    good_intensity.append(good_intensityi)"
   ]
  },
  {
   "cell_type": "code",
   "execution_count": 50,
   "metadata": {},
   "outputs": [
    {
     "data": {
      "image/png": "[encoded data removed]",
      "text/plain": [
       "<Figure size 864x432 with 2 Axes>"
      ]
     },
     "metadata": {
      "needs_background": "light"
     },
     "output_type": "display_data"
    }
   ],
   "source": [
    "colors = ['#CC7D6C', '#CCB56C', '#6FCC6C']\n",
    "fig, (ntc_ax, intensity_ax) = plt.subplots(1, 2, figsize = (12,6))\n",
    "\n",
    "ntc_box = ntc_ax.boxplot(good_NTC, patch_artist=True)\n",
    "ntc_ax.set_title(\"Negative Control Concentration (NTC <= 20)\")\n",
    "\n",
    "intBox = intensity_ax.boxplot(good_intensity, patch_artist=True)\n",
    "intensity_ax.set_title(\"Output Intensity (NTC <= 20)\")\n",
    "\n",
    "for plot in [ntc_box, intBox]:\n",
    "    i = 0\n",
    "    for patch in plot['boxes']:\n",
    "        patch.set_facecolor(colors[i])\n",
    "        i += 1\n",
    "\n",
    "\n",
    "plt.show()"
   ]
  },
  {
   "cell_type": "code",
   "execution_count": 51,
   "metadata": {
    "scrolled": true
   },
   "outputs": [],
   "source": [
    "passingSamples = toAnalyze.loc[toAnalyze.Negative_Control_Concentration <= 20, :]\n",
    "\n",
    "completeSamples = passingSamples.groupby(passingSamples['Sample_ID']).size() == 3\n",
    "toKeep = completeSamples.index[completeSamples].array\n",
    "\n",
    "passingSamples = passingSamples[passingSamples['Sample_ID'].isin(toKeep)]"
   ]
  },
  {
   "cell_type": "code",
   "execution_count": 70,
   "metadata": {},
   "outputs": [
    {
     "data": {
      "image/png": "[encoded data removed]",
      "text/plain": [
       "<Figure size 864x432 with 4 Axes>"
      ]
     },
     "metadata": {
      "needs_background": "light"
     },
     "output_type": "display_data"
    }
   ],
   "source": [
    "from sklearn.metrics import confusion_matrix\n",
    "\n",
    "passingSamples.loc[passingSamples['Intensity'] >= 35, \"Pass/Fail\"] = 1\n",
    "passingSamples.loc[passingSamples['Intensity'] < 35, \"Pass/Fail\"] = 0\n",
    "\n",
    "sortedPassing = passingSamples.sort_values([\"Condition\", \"Sample_ID\"])\n",
    "\n",
    "truthPF = sortedPassing.loc[sortedPassing['Condition'] == 1, \"Pass/Fail\"]\n",
    "conditionPF = []\n",
    "\n",
    "for experiment in [2,3]:\n",
    "    conditionPF.append(sortedPassing.loc[sortedPassing['Condition'] == experiment, \"Pass/Fail\"])\n",
    "\n",
    "fig, (CM1, CM2)  = plt.subplots(1,2, figsize = (12,6))  \n",
    "\n",
    "sns.heatmap(confusion_matrix(truthPF, conditionPF[0]),annot=True,fmt='3.0f', ax = CM1)\n",
    "CM1.set_title(\"Confusion Matrix: Condition 1 vs 2\")\n",
    "CM1.set(xlabel= 'Condition 2', ylabel = 'Condition 1')\n",
    "\n",
    "sns.heatmap(confusion_matrix(truthPF, conditionPF[1]),annot=True,fmt='3.0f', ax = CM2)\n",
    "CM2.set_title(\"Condition Matrix: Condition 1 vs 3\")\n",
    "CM2.set(xlabel= 'Condition 3', ylabel = 'Condition 1')\n",
    "\n",
    "plt.show()"
   ]
  }
 ],
 "metadata": {
  "kernelspec": {
   "display_name": "Python 3",
   "language": "python",
   "name": "python3"
  },
  "language_info": {
   "codemirror_mode": {
    "name": "ipython",
    "version": 3
   },
   "file_extension": ".py",
   "mimetype": "text/x-python",
   "name": "python",
   "nbconvert_exporter": "python",
   "pygments_lexer": "ipython3",
   "version": "3.8.5"
  }
 },
 "nbformat": 4,
 "nbformat_minor": 4
}
