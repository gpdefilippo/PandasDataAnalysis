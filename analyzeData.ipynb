{
 "cells": [
  {
   "cell_type": "code",
   "execution_count": 57,
   "metadata": {},
   "outputs": [
    {
     "data": {
      "text/html": [
       "<div>\n",
       "<style scoped>\n",
       "    .dataframe tbody tr th:only-of-type {\n",
       "        vertical-align: middle;\n",
       "    }\n",
       "\n",
       "    .dataframe tbody tr th {\n",
       "        vertical-align: top;\n",
       "    }\n",
       "\n",
       "    .dataframe thead th {\n",
       "        text-align: right;\n",
       "    }\n",
       "</style>\n",
       "<table border=\"1\" class=\"dataframe\">\n",
       "  <thead>\n",
       "    <tr style=\"text-align: right;\">\n",
       "      <th></th>\n",
       "      <th>Trials</th>\n",
       "      <th>Quality</th>\n",
       "      <th>Negative_Control_Concentration</th>\n",
       "      <th>Intensity</th>\n",
       "      <th>Condition</th>\n",
       "    </tr>\n",
       "  </thead>\n",
       "  <tbody>\n",
       "    <tr>\n",
       "      <th>0</th>\n",
       "      <td>1.0</td>\n",
       "      <td>0.040540</td>\n",
       "      <td>62.9825</td>\n",
       "      <td>26.93</td>\n",
       "      <td>1</td>\n",
       "    </tr>\n",
       "    <tr>\n",
       "      <th>1</th>\n",
       "      <td>2.0</td>\n",
       "      <td>0.736035</td>\n",
       "      <td>8.59492</td>\n",
       "      <td>64.0475</td>\n",
       "      <td>1</td>\n",
       "    </tr>\n",
       "    <tr>\n",
       "      <th>2</th>\n",
       "      <td>3.0</td>\n",
       "      <td>0.353428</td>\n",
       "      <td>40.669</td>\n",
       "      <td>34.8887</td>\n",
       "      <td>2</td>\n",
       "    </tr>\n",
       "    <tr>\n",
       "      <th>3</th>\n",
       "      <td>4.0</td>\n",
       "      <td>0.053727</td>\n",
       "      <td>63.5243</td>\n",
       "      <td>8.70987</td>\n",
       "      <td>3</td>\n",
       "    </tr>\n",
       "    <tr>\n",
       "      <th>4</th>\n",
       "      <td>5.0</td>\n",
       "      <td>0.696184</td>\n",
       "      <td>14.2989</td>\n",
       "      <td>64.4108</td>\n",
       "      <td>1</td>\n",
       "    </tr>\n",
       "    <tr>\n",
       "      <th>...</th>\n",
       "      <td>...</td>\n",
       "      <td>...</td>\n",
       "      <td>...</td>\n",
       "      <td>...</td>\n",
       "      <td>...</td>\n",
       "    </tr>\n",
       "    <tr>\n",
       "      <th>999996</th>\n",
       "      <td>999997.0</td>\n",
       "      <td>0.202389</td>\n",
       "      <td>45.4154</td>\n",
       "      <td>4.10628</td>\n",
       "      <td>3</td>\n",
       "    </tr>\n",
       "    <tr>\n",
       "      <th>999997</th>\n",
       "      <td>999998.0</td>\n",
       "      <td>0.395483</td>\n",
       "      <td>48.8473</td>\n",
       "      <td>71.2269</td>\n",
       "      <td>2</td>\n",
       "    </tr>\n",
       "    <tr>\n",
       "      <th>999998</th>\n",
       "      <td>999999.0</td>\n",
       "      <td>0.704270</td>\n",
       "      <td>16.5653</td>\n",
       "      <td>67.1945</td>\n",
       "      <td>1</td>\n",
       "    </tr>\n",
       "    <tr>\n",
       "      <th>999999</th>\n",
       "      <td>1000000.0</td>\n",
       "      <td>0.289896</td>\n",
       "      <td>59.7341</td>\n",
       "      <td>69.4635</td>\n",
       "      <td>3</td>\n",
       "    </tr>\n",
       "    <tr>\n",
       "      <th>1000000</th>\n",
       "      <td>1000001.0</td>\n",
       "      <td>0.175612</td>\n",
       "      <td>48.4389</td>\n",
       "      <td>10.5113</td>\n",
       "      <td>3</td>\n",
       "    </tr>\n",
       "  </tbody>\n",
       "</table>\n",
       "<p>1000001 rows × 5 columns</p>\n",
       "</div>"
      ],
      "text/plain": [
       "            Trials   Quality Negative_Control_Concentration Intensity  \\\n",
       "0              1.0  0.040540                        62.9825     26.93   \n",
       "1              2.0  0.736035                        8.59492   64.0475   \n",
       "2              3.0  0.353428                         40.669   34.8887   \n",
       "3              4.0  0.053727                        63.5243   8.70987   \n",
       "4              5.0  0.696184                        14.2989   64.4108   \n",
       "...            ...       ...                            ...       ...   \n",
       "999996    999997.0  0.202389                        45.4154   4.10628   \n",
       "999997    999998.0  0.395483                        48.8473   71.2269   \n",
       "999998    999999.0  0.704270                        16.5653   67.1945   \n",
       "999999   1000000.0  0.289896                        59.7341   69.4635   \n",
       "1000000  1000001.0  0.175612                        48.4389   10.5113   \n",
       "\n",
       "        Condition  \n",
       "0               1  \n",
       "1               1  \n",
       "2               2  \n",
       "3               3  \n",
       "4               1  \n",
       "...           ...  \n",
       "999996          3  \n",
       "999997          2  \n",
       "999998          1  \n",
       "999999          3  \n",
       "1000000         3  \n",
       "\n",
       "[1000001 rows x 5 columns]"
      ]
     },
     "execution_count": 57,
     "metadata": {},
     "output_type": "execute_result"
    }
   ],
   "source": [
    "import pandas as pd\n",
    "import numpy as np\n",
    "import matplotlib.pyplot as plt\n",
    "from createData import createDataFrame\n",
    "\n",
    "\n",
    "## Initialize Random Data Frame\n",
    "# this data frame consists of data generated from a random \"Quality\" score between 0-1\n",
    "# Intensity and Negative control concentration is generated from this quality score\n",
    "toAnalyze = createDataFrame(1000001)\n",
    "\n",
    "toAnalyze"
   ]
  },
  {
   "cell_type": "code",
   "execution_count": 58,
   "metadata": {},
   "outputs": [
    {
     "data": {
      "image/png": "[encoded data removed]",
      "text/plain": [
       "<Figure size 432x288 with 1 Axes>"
      ]
     },
     "metadata": {
      "needs_background": "light"
     },
     "output_type": "display_data"
    }
   ],
   "source": [
    "##Display counts of each condition type, describing the replicate setups\n",
    "\n",
    "toAnalyze[\"Condition\"].astype(str)\n",
    "condition_types, condition_counts = np.unique(toAnalyze[\"Condition\"], return_counts = True)\n",
    "plt.bar(condition_types, condition_counts, color = ['#CC7D6C', '#CCB56C', '#6FCC6C'])\n",
    "plt.xticks([1,2,3])\n",
    "plt.text(0.9, condition_counts[0] + 10, condition_counts[0], fontsize = \"large\")\n",
    "plt.text(1.9, condition_counts[1] + 10, condition_counts[1], fontsize = \"large\")\n",
    "plt.text(2.9, condition_counts[2] + 10, condition_counts[2], fontsize = \"large\")\n",
    "plt.xlabel(\"Condition Type\")\n",
    "plt.ylabel(\"Count\")\n",
    "plt.show()"
   ]
  },
  {
   "cell_type": "code",
   "execution_count": 59,
   "metadata": {},
   "outputs": [],
   "source": [
    "##Initialize data for boxplots and barplot below\n",
    "\n",
    "NTCboxData = []\n",
    "IntboxData = []\n",
    "negCount = []\n",
    "\n",
    "for condition in [1,2,3]:\n",
    "    NTCboxDatai = toAnalyze.loc[np.where(toAnalyze[\"Condition\"] == condition), \"Negative_Control_Concentration\"]\n",
    "    IntboxDatai = toAnalyze.loc[np.where(toAnalyze[\"Condition\"] == condition), \"Intensity\"]\n",
    "    negCounti = np.count_nonzero(toAnalyze.loc[np.where((toAnalyze[\"Condition\"] == condition) &\n",
    "                                                       (toAnalyze[\"Negative_Control_Concentration\"] > 20)),\"Negative_Control_Concentration\"])\n",
    "    \n",
    "    NTCboxData.append(NTCboxDatai)\n",
    "    IntboxData.append(IntboxDatai)\n",
    "    negCount.append(negCounti)"
   ]
  },
  {
   "cell_type": "code",
   "execution_count": 60,
   "metadata": {},
   "outputs": [
    {
     "data": {
      "image/png": "[encoded data removed]",
      "text/plain": [
       "<Figure size 864x432 with 3 Axes>"
      ]
     },
     "metadata": {
      "needs_background": "light"
     },
     "output_type": "display_data"
    }
   ],
   "source": [
    "colors = ['#CC7D6C', '#CCB56C', '#6FCC6C']\n",
    "fig, (ntc_ax, intensity_ax, countNTC_ax) = plt.subplots(1, 3, figsize = (12,6))\n",
    "\n",
    "ntc_box = ntc_ax.boxplot(NTCboxData, patch_artist=True)\n",
    "ntc_ax.set_title(\"Negative Control Concentration\")\n",
    "\n",
    "intBox = intensity_ax.boxplot(IntboxData, patch_artist=True)\n",
    "intensity_ax.set_title(\"Output Intensity\")\n",
    "\n",
    "ntcCount = countNTC_ax.bar([1,2,3], negCount, color = ['#CC7D6C', '#CCB56C', '#6FCC6C'])\n",
    "countNTC_ax.set_title(\"Count Negative Control > 20\")\n",
    "\n",
    "for plot in [ntc_box, intBox]:\n",
    "    i = 0\n",
    "    for patch in plot['boxes']:\n",
    "        patch.set_facecolor(colors[i])\n",
    "        i += 1\n",
    "\n",
    "\n",
    "plt.show()"
   ]
  },
  {
   "cell_type": "code",
   "execution_count": 55,
   "metadata": {
    "scrolled": true
   },
   "outputs": [],
   "source": [
    "good_intensity = []\n",
    "good_NTC = []\n",
    "\n",
    "for condition in [0,1,2]:\n",
    "    good_intensityi = IntboxData[condition].iloc[np.where(NTCboxData[condition] <= 20)]\n",
    "    good_NTCi = NTCboxData[condition].iloc[np.where(NTCboxData[condition] <= 20)]\n",
    "    \n",
    "    good_NTC.append(good_NTCi)\n",
    "    good_intensity.append(good_intensityi)"
   ]
  },
  {
   "cell_type": "code",
   "execution_count": 56,
   "metadata": {},
   "outputs": [
    {
     "data": {
      "image/png": "[encoded data removed]",
      "text/plain": [
       "<Figure size 864x432 with 2 Axes>"
      ]
     },
     "metadata": {
      "needs_background": "light"
     },
     "output_type": "display_data"
    }
   ],
   "source": [
    "colors = ['#CC7D6C', '#CCB56C', '#6FCC6C']\n",
    "fig, (ntc_ax, intensity_ax) = plt.subplots(1, 2, figsize = (12,6))\n",
    "\n",
    "ntc_box = ntc_ax.boxplot(good_NTC, patch_artist=True)\n",
    "ntc_ax.set_title(\"Negative Control Concentration (NTC <= 20)\")\n",
    "\n",
    "intBox = intensity_ax.boxplot(good_intensity, patch_artist=True)\n",
    "intensity_ax.set_title(\"Output Intensity (NTC <= 20)\")\n",
    "\n",
    "for plot in [ntc_box, intBox]:\n",
    "    i = 0\n",
    "    for patch in plot['boxes']:\n",
    "        patch.set_facecolor(colors[i])\n",
    "        i += 1\n",
    "\n",
    "\n",
    "plt.show()"
   ]
  },
  {
   "cell_type": "code",
   "execution_count": 46,
   "metadata": {},
   "outputs": [
    {
     "data": {
      "text/plain": [
       "(3, 33366)"
      ]
     },
     "execution_count": 46,
     "metadata": {},
     "output_type": "execute_result"
    }
   ],
   "source": []
  },
  {
   "cell_type": "code",
   "execution_count": null,
   "metadata": {},
   "outputs": [],
   "source": []
  }
 ],
 "metadata": {
  "kernelspec": {
   "display_name": "Python 3",
   "language": "python",
   "name": "python3"
  },
  "language_info": {
   "codemirror_mode": {
    "name": "ipython",
    "version": 3
   },
   "file_extension": ".py",
   "mimetype": "text/x-python",
   "name": "python",
   "nbconvert_exporter": "python",
   "pygments_lexer": "ipython3",
   "version": "3.8.5"
  }
 },
 "nbformat": 4,
 "nbformat_minor": 4
}
