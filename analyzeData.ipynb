{
 "cells": [
  {
   "cell_type": "code",
   "execution_count": 1,
   "metadata": {},
   "outputs": [
    {
     "data": {
      "text/html": [
       "<div>\n",
       "<style scoped>\n",
       "    .dataframe tbody tr th:only-of-type {\n",
       "        vertical-align: middle;\n",
       "    }\n",
       "\n",
       "    .dataframe tbody tr th {\n",
       "        vertical-align: top;\n",
       "    }\n",
       "\n",
       "    .dataframe thead th {\n",
       "        text-align: right;\n",
       "    }\n",
       "</style>\n",
       "<table border=\"1\" class=\"dataframe\">\n",
       "  <thead>\n",
       "    <tr style=\"text-align: right;\">\n",
       "      <th></th>\n",
       "      <th>Trials</th>\n",
       "      <th>Quality</th>\n",
       "      <th>Negative_Control_Concentration</th>\n",
       "      <th>Intensity</th>\n",
       "      <th>Condition</th>\n",
       "    </tr>\n",
       "  </thead>\n",
       "  <tbody>\n",
       "    <tr>\n",
       "      <th>0</th>\n",
       "      <td>1.0</td>\n",
       "      <td>0.304868</td>\n",
       "      <td>55.5834</td>\n",
       "      <td>41.415</td>\n",
       "      <td>3</td>\n",
       "    </tr>\n",
       "    <tr>\n",
       "      <th>1</th>\n",
       "      <td>2.0</td>\n",
       "      <td>0.808096</td>\n",
       "      <td>10.0983</td>\n",
       "      <td>48.6035</td>\n",
       "      <td>1</td>\n",
       "    </tr>\n",
       "    <tr>\n",
       "      <th>2</th>\n",
       "      <td>3.0</td>\n",
       "      <td>0.747018</td>\n",
       "      <td>14.3215</td>\n",
       "      <td>28.6496</td>\n",
       "      <td>2</td>\n",
       "    </tr>\n",
       "    <tr>\n",
       "      <th>3</th>\n",
       "      <td>4.0</td>\n",
       "      <td>0.393147</td>\n",
       "      <td>43.4694</td>\n",
       "      <td>0.847644</td>\n",
       "      <td>2</td>\n",
       "    </tr>\n",
       "    <tr>\n",
       "      <th>4</th>\n",
       "      <td>5.0</td>\n",
       "      <td>0.285915</td>\n",
       "      <td>44.0209</td>\n",
       "      <td>51.1405</td>\n",
       "      <td>2</td>\n",
       "    </tr>\n",
       "    <tr>\n",
       "      <th>...</th>\n",
       "      <td>...</td>\n",
       "      <td>...</td>\n",
       "      <td>...</td>\n",
       "      <td>...</td>\n",
       "      <td>...</td>\n",
       "    </tr>\n",
       "    <tr>\n",
       "      <th>100093</th>\n",
       "      <td>100094.0</td>\n",
       "      <td>0.986126</td>\n",
       "      <td>39.5503</td>\n",
       "      <td>139.184</td>\n",
       "      <td>3</td>\n",
       "    </tr>\n",
       "    <tr>\n",
       "      <th>100094</th>\n",
       "      <td>100095.0</td>\n",
       "      <td>0.164295</td>\n",
       "      <td>34.6472</td>\n",
       "      <td>52.0771</td>\n",
       "      <td>1</td>\n",
       "    </tr>\n",
       "    <tr>\n",
       "      <th>100095</th>\n",
       "      <td>100096.0</td>\n",
       "      <td>0.546190</td>\n",
       "      <td>10.7074</td>\n",
       "      <td>49.7542</td>\n",
       "      <td>1</td>\n",
       "    </tr>\n",
       "    <tr>\n",
       "      <th>100096</th>\n",
       "      <td>100097.0</td>\n",
       "      <td>0.794153</td>\n",
       "      <td>4.57497</td>\n",
       "      <td>40.2245</td>\n",
       "      <td>2</td>\n",
       "    </tr>\n",
       "    <tr>\n",
       "      <th>100097</th>\n",
       "      <td>100098.0</td>\n",
       "      <td>0.820855</td>\n",
       "      <td>9.37036</td>\n",
       "      <td>42.4963</td>\n",
       "      <td>3</td>\n",
       "    </tr>\n",
       "  </tbody>\n",
       "</table>\n",
       "<p>100098 rows × 5 columns</p>\n",
       "</div>"
      ],
      "text/plain": [
       "          Trials   Quality Negative_Control_Concentration Intensity Condition\n",
       "0            1.0  0.304868                        55.5834    41.415         3\n",
       "1            2.0  0.808096                        10.0983   48.6035         1\n",
       "2            3.0  0.747018                        14.3215   28.6496         2\n",
       "3            4.0  0.393147                        43.4694  0.847644         2\n",
       "4            5.0  0.285915                        44.0209   51.1405         2\n",
       "...          ...       ...                            ...       ...       ...\n",
       "100093  100094.0  0.986126                        39.5503   139.184         3\n",
       "100094  100095.0  0.164295                        34.6472   52.0771         1\n",
       "100095  100096.0  0.546190                        10.7074   49.7542         1\n",
       "100096  100097.0  0.794153                        4.57497   40.2245         2\n",
       "100097  100098.0  0.820855                        9.37036   42.4963         3\n",
       "\n",
       "[100098 rows x 5 columns]"
      ]
     },
     "execution_count": 1,
     "metadata": {},
     "output_type": "execute_result"
    }
   ],
   "source": [
    "import pandas as pd\n",
    "import numpy as np\n",
    "import matplotlib.pyplot as plt\n",
    "from createData import createDataFrame\n",
    "\n",
    "\n",
    "## Initialize Random Data Frame\n",
    "# this data frame consists of data generated from a random \"Quality\" score between 0-1\n",
    "# Intensity and Negative control concentration is generated from this quality score\n",
    "toAnalyze = createDataFrame(100098)\n",
    "\n",
    "toAnalyze"
   ]
  },
  {
   "cell_type": "code",
   "execution_count": 2,
   "metadata": {},
   "outputs": [
    {
     "data": {
      "image/png": "[encoded data removed]",
      "text/plain": [
       "<Figure size 432x288 with 1 Axes>"
      ]
     },
     "metadata": {
      "needs_background": "light"
     },
     "output_type": "display_data"
    }
   ],
   "source": [
    "##Display counts of each condition type, describing the replicate setups\n",
    "\n",
    "toAnalyze[\"Condition\"].astype(str)\n",
    "condition_types, condition_counts = np.unique(toAnalyze[\"Condition\"], return_counts = True)\n",
    "plt.bar(condition_types, condition_counts, color = ['#CC7D6C', '#CCB56C', '#6FCC6C'])\n",
    "plt.xticks([1,2,3])\n",
    "plt.text(0.9, condition_counts[0] + 10, condition_counts[0], fontsize = \"large\")\n",
    "plt.text(1.9, condition_counts[1] + 10, condition_counts[1], fontsize = \"large\")\n",
    "plt.text(2.9, condition_counts[2] + 10, condition_counts[2], fontsize = \"large\")\n",
    "plt.xlabel(\"Condition Type\")\n",
    "plt.ylabel(\"Count\")\n",
    "plt.show()"
   ]
  },
  {
   "cell_type": "code",
   "execution_count": 4,
   "metadata": {},
   "outputs": [],
   "source": [
    "##Initialize data for boxplots and barplot below\n",
    "\n",
    "NTCboxData = []\n",
    "IntboxData = []\n",
    "negCount = []\n",
    "\n",
    "for condition in [1,2,3]:\n",
    "    NTCboxDatai = toAnalyze.loc[np.where(toAnalyze[\"Condition\"] == condition), \"Negative_Control_Concentration\"]\n",
    "    IntboxDatai = toAnalyze.loc[np.where(toAnalyze[\"Condition\"] == condition), \"Intensity\"]\n",
    "    negCounti = np.count_nonzero(toAnalyze.loc[np.where((toAnalyze[\"Condition\"] == condition) &\n",
    "                                                       (toAnalyze[\"Negative_Control_Concentration\"] > 20)),\"Negative_Control_Concentration\"])\n",
    "    \n",
    "    NTCboxData.append(NTCboxDatai)\n",
    "    IntboxData.append(IntboxDatai)\n",
    "    negCount.append(negCounti)"
   ]
  },
  {
   "cell_type": "code",
   "execution_count": 5,
   "metadata": {},
   "outputs": [
    {
     "data": {
      "image/png": "[encoded data removed]",
      "text/plain": [
       "<Figure size 864x432 with 3 Axes>"
      ]
     },
     "metadata": {
      "needs_background": "light"
     },
     "output_type": "display_data"
    }
   ],
   "source": [
    "colors = ['#CC7D6C', '#CCB56C', '#6FCC6C']\n",
    "fig, (ntc_ax, intensity_ax, countNTC_ax) = plt.subplots(1, 3, figsize = (12,6))\n",
    "\n",
    "ntc_box = ntc_ax.boxplot(NTCboxData, patch_artist=True)\n",
    "ntc_ax.set_title(\"Negative Control Concentration\")\n",
    "\n",
    "intBox = intensity_ax.boxplot(IntboxData, patch_artist=True)\n",
    "intensity_ax.set_title(\"Output Intensity\")\n",
    "\n",
    "ntcCount = countNTC_ax.bar([1,2,3], negCount, color = ['#CC7D6C', '#CCB56C', '#6FCC6C'])\n",
    "countNTC_ax.set_title(\"Count Negative Control > 20\")\n",
    "\n",
    "for plot in [ntc_box, intBox]:\n",
    "    i = 0\n",
    "    for patch in plot['boxes']:\n",
    "        patch.set_facecolor(colors[i])\n",
    "        i += 1\n",
    "\n",
    "\n",
    "plt.show()"
   ]
  },
  {
   "cell_type": "code",
   "execution_count": null,
   "metadata": {},
   "outputs": [],
   "source": []
  }
 ],
 "metadata": {
  "kernelspec": {
   "display_name": "Python 3",
   "language": "python",
   "name": "python3"
  },
  "language_info": {
   "codemirror_mode": {
    "name": "ipython",
    "version": 3
   },
   "file_extension": ".py",
   "mimetype": "text/x-python",
   "name": "python",
   "nbconvert_exporter": "python",
   "pygments_lexer": "ipython3",
   "version": "3.8.5"
  }
 },
 "nbformat": 4,
 "nbformat_minor": 4
}
