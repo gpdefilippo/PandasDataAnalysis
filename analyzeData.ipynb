{
 "cells": [
  {
   "cell_type": "code",
   "execution_count": 16,
   "metadata": {},
   "outputs": [
    {
     "data": {
      "text/html": [
       "<div>\n",
       "<style scoped>\n",
       "    .dataframe tbody tr th:only-of-type {\n",
       "        vertical-align: middle;\n",
       "    }\n",
       "\n",
       "    .dataframe tbody tr th {\n",
       "        vertical-align: top;\n",
       "    }\n",
       "\n",
       "    .dataframe thead th {\n",
       "        text-align: right;\n",
       "    }\n",
       "</style>\n",
       "<table border=\"1\" class=\"dataframe\">\n",
       "  <thead>\n",
       "    <tr style=\"text-align: right;\">\n",
       "      <th></th>\n",
       "      <th>Trials</th>\n",
       "      <th>Quality</th>\n",
       "      <th>Negative_Control_Concentration</th>\n",
       "      <th>Intensity</th>\n",
       "      <th>Condition</th>\n",
       "    </tr>\n",
       "  </thead>\n",
       "  <tbody>\n",
       "    <tr>\n",
       "      <th>0</th>\n",
       "      <td>1.0</td>\n",
       "      <td>0.394069</td>\n",
       "      <td>58.5319</td>\n",
       "      <td>23.6379</td>\n",
       "      <td>2</td>\n",
       "    </tr>\n",
       "    <tr>\n",
       "      <th>1</th>\n",
       "      <td>2.0</td>\n",
       "      <td>0.264667</td>\n",
       "      <td>51.5857</td>\n",
       "      <td>6.33291</td>\n",
       "      <td>2</td>\n",
       "    </tr>\n",
       "    <tr>\n",
       "      <th>2</th>\n",
       "      <td>3.0</td>\n",
       "      <td>0.298906</td>\n",
       "      <td>40.8266</td>\n",
       "      <td>28.6361</td>\n",
       "      <td>3</td>\n",
       "    </tr>\n",
       "    <tr>\n",
       "      <th>3</th>\n",
       "      <td>4.0</td>\n",
       "      <td>0.191596</td>\n",
       "      <td>63.6533</td>\n",
       "      <td>45.3425</td>\n",
       "      <td>1</td>\n",
       "    </tr>\n",
       "    <tr>\n",
       "      <th>4</th>\n",
       "      <td>5.0</td>\n",
       "      <td>0.400301</td>\n",
       "      <td>56.122</td>\n",
       "      <td>0.162723</td>\n",
       "      <td>2</td>\n",
       "    </tr>\n",
       "    <tr>\n",
       "      <th>...</th>\n",
       "      <td>...</td>\n",
       "      <td>...</td>\n",
       "      <td>...</td>\n",
       "      <td>...</td>\n",
       "      <td>...</td>\n",
       "    </tr>\n",
       "    <tr>\n",
       "      <th>99995</th>\n",
       "      <td>99996.0</td>\n",
       "      <td>0.124384</td>\n",
       "      <td>63.6666</td>\n",
       "      <td>11.9523</td>\n",
       "      <td>1</td>\n",
       "    </tr>\n",
       "    <tr>\n",
       "      <th>99996</th>\n",
       "      <td>99997.0</td>\n",
       "      <td>0.940218</td>\n",
       "      <td>0.0152743</td>\n",
       "      <td>104.242</td>\n",
       "      <td>3</td>\n",
       "    </tr>\n",
       "    <tr>\n",
       "      <th>99997</th>\n",
       "      <td>99998.0</td>\n",
       "      <td>0.546705</td>\n",
       "      <td>21.561</td>\n",
       "      <td>29.5085</td>\n",
       "      <td>2</td>\n",
       "    </tr>\n",
       "    <tr>\n",
       "      <th>99998</th>\n",
       "      <td>99999.0</td>\n",
       "      <td>0.668197</td>\n",
       "      <td>16.0077</td>\n",
       "      <td>11.6026</td>\n",
       "      <td>2</td>\n",
       "    </tr>\n",
       "    <tr>\n",
       "      <th>99999</th>\n",
       "      <td>100000.0</td>\n",
       "      <td>0.114732</td>\n",
       "      <td>50.6165</td>\n",
       "      <td>78.292</td>\n",
       "      <td>2</td>\n",
       "    </tr>\n",
       "  </tbody>\n",
       "</table>\n",
       "<p>100000 rows × 5 columns</p>\n",
       "</div>"
      ],
      "text/plain": [
       "         Trials   Quality Negative_Control_Concentration Intensity Condition\n",
       "0           1.0  0.394069                        58.5319   23.6379         2\n",
       "1           2.0  0.264667                        51.5857   6.33291         2\n",
       "2           3.0  0.298906                        40.8266   28.6361         3\n",
       "3           4.0  0.191596                        63.6533   45.3425         1\n",
       "4           5.0  0.400301                         56.122  0.162723         2\n",
       "...         ...       ...                            ...       ...       ...\n",
       "99995   99996.0  0.124384                        63.6666   11.9523         1\n",
       "99996   99997.0  0.940218                      0.0152743   104.242         3\n",
       "99997   99998.0  0.546705                         21.561   29.5085         2\n",
       "99998   99999.0  0.668197                        16.0077   11.6026         2\n",
       "99999  100000.0  0.114732                        50.6165    78.292         2\n",
       "\n",
       "[100000 rows x 5 columns]"
      ]
     },
     "execution_count": 16,
     "metadata": {},
     "output_type": "execute_result"
    }
   ],
   "source": [
    "import pandas as pd\n",
    "import numpy as np\n",
    "from matplotlib.pyplot as plt\n",
    "from createData import createDataFrame\n",
    "\n",
    "\n",
    "## Initialize Random Data Frame\n",
    "# this data frame consists of data generated from a random \"Quality\" score between 0-1\n",
    "# Intensity and Negative control concentration is generated from this quality score\n",
    "toAnalyze = createDataFrame(100000)\n",
    "\n",
    "toAnalyze"
   ]
  },
  {
   "cell_type": "code",
   "execution_count": 71,
   "metadata": {},
   "outputs": [
    {
     "data": {
      "image/png": "[encoded data removed]",
      "text/plain": [
       "<Figure size 432x288 with 1 Axes>"
      ]
     },
     "metadata": {
      "needs_background": "light"
     },
     "output_type": "display_data"
    },
    {
     "data": {
      "text/plain": [
       "<Figure size 1200x10000 with 0 Axes>"
      ]
     },
     "metadata": {},
     "output_type": "display_data"
    }
   ],
   "source": [
    "toAnalyze[\"Condition\"].astype(str)\n",
    "condition_types, condition_counts = np.unique(toAnalyze[\"Condition\"], return_counts = True)\n",
    "plt.bar(condition_types, condition_counts, color = ['#CC7D6C', '#CCB56C', '#6FCC6C'])\n",
    "plt.xticks([1,2,3])\n",
    "plt.text(0.9, condition_counts[0] + 10, condition_counts[0], fontsize = \"large\")\n",
    "plt.text(1.9, condition_counts[1] + 10, condition_counts[1], fontsize = \"large\")\n",
    "plt.text(2.9, condition_counts[2] + 10, condition_counts[2], fontsize = \"large\")\n",
    "plt.xlabel(\"Condition Type\")\n",
    "plt.ylabel(\"Count\")\n",
    "plt.figure(figsize=(12,100), dpi= 100, facecolor='w', edgecolor='k')\n",
    "plt.show()"
   ]
  },
  {
   "cell_type": "code",
   "execution_count": 47,
   "metadata": {},
   "outputs": [
    {
     "data": {
      "text/plain": [
       "array([33334, 33333, 33333], dtype=int64)"
      ]
     },
     "execution_count": 47,
     "metadata": {},
     "output_type": "execute_result"
    }
   ],
   "source": []
  },
  {
   "cell_type": "code",
   "execution_count": null,
   "metadata": {},
   "outputs": [],
   "source": []
  }
 ],
 "metadata": {
  "kernelspec": {
   "display_name": "Python 3",
   "language": "python",
   "name": "python3"
  },
  "language_info": {
   "codemirror_mode": {
    "name": "ipython",
    "version": 3
   },
   "file_extension": ".py",
   "mimetype": "text/x-python",
   "name": "python",
   "nbconvert_exporter": "python",
   "pygments_lexer": "ipython3",
   "version": "3.8.5"
  }
 },
 "nbformat": 4,
 "nbformat_minor": 4
}
